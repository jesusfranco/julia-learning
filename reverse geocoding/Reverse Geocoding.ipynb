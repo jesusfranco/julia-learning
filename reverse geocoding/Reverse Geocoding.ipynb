{
 "cells": [
  {
   "cell_type": "code",
   "execution_count": 1,
   "metadata": {
    "collapsed": false
   },
   "outputs": [],
   "source": [
    "using Requests: get, json"
   ]
  },
  {
   "cell_type": "code",
   "execution_count": 2,
   "metadata": {
    "collapsed": false
   },
   "outputs": [
    {
     "data": {
      "text/plain": [
       "reverse_geocoding (generic function with 1 method)"
      ]
     },
     "execution_count": 2,
     "metadata": {},
     "output_type": "execute_result"
    }
   ],
   "source": [
    "function reverse_geocoding(latitude, longitude; api = :google)\n",
    "    APIs = Dict(\n",
    "        :google => \"https://maps.googleapis.com/maps/api/geocode/json?latlng=$latitude,$longitude\",\n",
    "        :openstreetmap => \"http://nominatim.openstreetmap.org/reverse?format=json&lat=$latitude&lon=$longitude\"\n",
    "    )\n",
    "    response = get(APIs[api])\n",
    "    return response.status == 200 ? json(response) : response\n",
    "end"
   ]
  },
  {
   "cell_type": "code",
   "execution_count": 3,
   "metadata": {
    "collapsed": false
   },
   "outputs": [
    {
     "data": {
      "text/plain": [
       "100000×5 Array{Float64,2}:\n",
       "      1.0  19.1599   -99.1423  19.1906   -99.1398\n",
       "      2.0  19.1361   -99.2596  19.1547   -99.0275\n",
       "      3.0  20.7293  -100.49    19.3494  -101.225 \n",
       "      4.0  17.5787  -100.901   20.1571  -100.12  \n",
       "      5.0  20.1634   -97.2348  19.4832   -99.1224\n",
       "      6.0  20.9918   -99.7457  20.2681   -99.9012\n",
       "      7.0  16.9768   -98.0301  19.4797   -99.1828\n",
       "      8.0  18.6683   -98.9942  19.0884   -99.0114\n",
       "      9.0  19.4667   -99.0565  19.1166   -99.1408\n",
       "     10.0  17.3611   -94.5553  16.4153   -96.6446\n",
       "     11.0  17.6689   -94.1377  19.2037   -99.31  \n",
       "     12.0  19.3801   -99.2279  19.1289   -99.0465\n",
       "     13.0  22.1228   -97.7667  26.8429  -113.262 \n",
       "      ⋮                                          \n",
       "  99989.0  21.1633  -100.872   21.4098  -102.789 \n",
       "  99990.0  19.9786   -99.1422  19.5902   -99.2825\n",
       "  99991.0  19.3683   -98.9963  19.1912   -96.8645\n",
       "  99992.0  16.1302   -94.0164  24.4229  -102.369 \n",
       "  99993.0  26.1726  -112.232   24.1668   -99.9057\n",
       "  99994.0  21.1808   -99.2916  21.5338  -102.554 \n",
       "  99995.0  16.8875   -93.8571  14.9487   -92.5718\n",
       "  99996.0  18.9296   -99.5248  19.3344   -97.9212\n",
       "  99997.0  18.1757   -95.7918  20.895   -100.957 \n",
       "  99998.0  25.577    -98.8678  16.3153   -90.6025\n",
       "  99999.0  18.5179   -99.0801  18.8234   -99.3161\n",
       " 100000.0  19.3359   -99.1422  19.0194  -100.212 "
      ]
     },
     "execution_count": 3,
     "metadata": {},
     "output_type": "execute_result"
    }
   ],
   "source": [
    "data = readdlm(\"reverse_geocoding.csv\", ',')"
   ]
  },
  {
   "cell_type": "code",
   "execution_count": 4,
   "metadata": {
    "collapsed": false
   },
   "outputs": [
    {
     "name": "stdout",
     "output_type": "stream",
     "text": [
      "100000"
     ]
    }
   ],
   "source": [
    "row, col = size(data)\n",
    "print(row)"
   ]
  },
  {
   "cell_type": "code",
   "execution_count": 5,
   "metadata": {
    "collapsed": false
   },
   "outputs": [
    {
     "data": {
      "text/html": [
       "<table class=\"data-frame\"><thead><tr><th></th></tr></thead><tbody></tbody></table>"
      ],
      "text/plain": [
       "0×0 DataFrames.DataFrame\n"
      ]
     },
     "execution_count": 5,
     "metadata": {},
     "output_type": "execute_result"
    }
   ],
   "source": [
    "using DataFrames\n",
    "df = DataFrame()"
   ]
  },
  {
   "cell_type": "code",
   "execution_count": 16,
   "metadata": {
    "collapsed": false,
    "scrolled": true
   },
   "outputs": [],
   "source": [
    "for r in 1:100\n",
    "    id = convert(Int64,data[r,1])\n",
    "    lat = data[r,4]\n",
    "    long = data[r,5]\n",
    "    dict = reverse_geocoding(lat,long,api=:openstreetmap)\n",
    "    #println(get(dict,\"display_name\",\"NA\"),\"NA\")\n",
    "    country = get(get(dict,\"address\",\"NA\"),\"country\",\"NA\")\n",
    "    state = get(get(dict,\"address\",\"NA\"),\"state\",\"NA\")\n",
    "    postcode = get(get(dict,\"address\",\"NA\"),\"postcode\",\"NA\")\n",
    "    county = get(get(dict,\"address\",\"NA\"),\"county\",\"NA\")\n",
    "    df[Symbol(\"$r\")] = [id,lat,long,country,state,postcode,county]\n",
    "end"
   ]
  },
  {
   "cell_type": "code",
   "execution_count": 8,
   "metadata": {
    "collapsed": false
   },
   "outputs": [
    {
     "data": {
      "text/plain": [
       "2-element Array{Float64,1}:\n",
       "  23.1536\n",
       " -97.8963"
      ]
     },
     "execution_count": 8,
     "metadata": {},
     "output_type": "execute_result"
    }
   ],
   "source": [
    "data[1817,4:5]"
   ]
  },
  {
   "cell_type": "code",
   "execution_count": 9,
   "metadata": {
    "collapsed": false
   },
   "outputs": [
    {
     "data": {
      "text/plain": [
       "Dict{String,Any}"
      ]
     },
     "execution_count": 9,
     "metadata": {},
     "output_type": "execute_result"
    }
   ],
   "source": [
    "tmp_dict = reverse_geocoding(23.1536,-97.8963,api=:openstreetmap)\n",
    "typeof(tmp_dict)\n",
    "\n",
    "#Result\n",
    "#{\"place_id\":\"50676652\",\"licence\":\"Data © OpenStreetMap contributors, ODbL 1.0. http:\\/\\/www.openstreetmap.org\\/copyright\",\"osm_type\":\"node\",\"osm_id\":\"3738017964\",\"lat\":\"22.9203035\",\"lon\":\"-98.0899807\",\"display_name\":\"Aldama, Tamaulipas, México\",\"address\":{\"city\":\"Aldama\",\"county\":\"Aldama\",\"state\":\"Tamaulipas\",\"country\":\"México\",\"country_code\":\"mx\"},\"boundingbox\":[\"22.6003035\",\"23.2403035\",\"-98.4099807\",\"-97.7699807\"]}\n"
   ]
  },
  {
   "cell_type": "code",
   "execution_count": 17,
   "metadata": {
    "collapsed": false
   },
   "outputs": [
    {
     "data": {
      "text/html": [
       "<table class=\"data-frame\"><thead><tr><th></th><th>1</th><th>2</th><th>3</th><th>4</th><th>5</th><th>6</th><th>7</th><th>8</th><th>9</th><th>10</th><th>11</th><th>12</th><th>13</th><th>14</th><th>15</th><th>16</th><th>17</th><th>18</th><th>19</th><th>20</th><th>21</th><th>22</th><th>23</th><th>24</th><th>25</th><th>26</th><th>27</th><th>28</th><th>29</th><th>30</th><th>31</th><th>32</th><th>33</th><th>34</th><th>35</th><th>36</th><th>37</th><th>38</th><th>39</th><th>40</th><th>41</th><th>42</th><th>43</th><th>44</th><th>45</th><th>46</th><th>47</th><th>48</th><th>49</th><th>50</th><th>51</th><th>52</th><th>53</th><th>54</th><th>55</th><th>56</th><th>57</th><th>58</th><th>59</th><th>60</th><th>61</th><th>62</th><th>63</th><th>64</th><th>65</th><th>66</th><th>67</th><th>68</th><th>69</th><th>70</th><th>71</th><th>72</th><th>73</th><th>74</th><th>75</th><th>76</th><th>77</th><th>78</th><th>79</th><th>80</th><th>81</th><th>82</th><th>83</th><th>84</th><th>85</th><th>86</th><th>87</th><th>88</th><th>89</th><th>90</th><th>91</th><th>92</th><th>93</th><th>94</th><th>95</th><th>96</th><th>97</th><th>98</th><th>99</th><th>100</th></tr></thead><tbody><tr><th>1</th><td>1</td><td>2</td><td>3</td><td>4</td><td>5</td><td>6</td><td>7</td><td>8</td><td>9</td><td>10</td><td>11</td><td>12</td><td>13</td><td>14</td><td>15</td><td>16</td><td>17</td><td>18</td><td>19</td><td>20</td><td>21</td><td>22</td><td>23</td><td>24</td><td>25</td><td>26</td><td>27</td><td>28</td><td>29</td><td>30</td><td>31</td><td>32</td><td>33</td><td>34</td><td>35</td><td>36</td><td>37</td><td>38</td><td>39</td><td>40</td><td>41</td><td>42</td><td>43</td><td>44</td><td>45</td><td>46</td><td>47</td><td>48</td><td>49</td><td>50</td><td>51</td><td>52</td><td>53</td><td>54</td><td>55</td><td>56</td><td>57</td><td>58</td><td>59</td><td>60</td><td>61</td><td>62</td><td>63</td><td>64</td><td>65</td><td>66</td><td>67</td><td>68</td><td>69</td><td>70</td><td>71</td><td>72</td><td>73</td><td>74</td><td>75</td><td>76</td><td>77</td><td>78</td><td>79</td><td>80</td><td>81</td><td>82</td><td>83</td><td>84</td><td>85</td><td>86</td><td>87</td><td>88</td><td>89</td><td>90</td><td>91</td><td>92</td><td>93</td><td>94</td><td>95</td><td>96</td><td>97</td><td>98</td><td>99</td><td>100</td></tr><tr><th>2</th><td>19.19059131</td><td>19.15473514</td><td>19.34936454</td><td>20.15710054</td><td>19.48320187</td><td>20.26814799</td><td>19.47968825</td><td>19.08838527</td><td>19.116567</td><td>16.41526089</td><td>19.20372485</td><td>19.12893426</td><td>26.84292035</td><td>19.63680661</td><td>20.43444983</td><td>19.33428921</td><td>19.72859362</td><td>21.2370931</td><td>18.87189484</td><td>21.15428364</td><td>21.35287969</td><td>19.13223568</td><td>19.01444338</td><td>28.29236937</td><td>17.25572775</td><td>20.66797288</td><td>18.63233565</td><td>19.3626295</td><td>17.07206383</td><td>19.11737609</td><td>19.38308301</td><td>18.4319</td><td>16.11497365</td><td>22.27846764</td><td>19.28463244</td><td>21.01213222</td><td>19.17695842</td><td>19.47684976</td><td>19.70264183</td><td>20.03210922</td><td>19.59388741</td><td>18.88974563</td><td>21.28473317</td><td>18.97873898</td><td>19.18070199</td><td>17.78126185</td><td>19.51288856</td><td>19.01764785</td><td>19.17024977</td><td>21.73214022</td><td>19.22226113</td><td>19.11247967</td><td>22.59788102</td><td>26.65836257</td><td>19.70954571</td><td>23.71991808</td><td>19.46839292</td><td>19.81883334</td><td>25.96507372</td><td>20.49093715</td><td>29.15685693</td><td>19.23351018</td><td>30.37635916</td><td>24.81382853</td><td>18.13091419</td><td>18.84822014</td><td>19.3851534</td><td>21.30390787</td><td>19.89751351</td><td>19.48443216</td><td>19.38393163</td><td>21.21173038</td><td>18.85298835</td><td>19.19985882</td><td>19.45084284</td><td>19.07274833</td><td>18.07123499</td><td>29.12590793</td><td>21.2768141</td><td>18.6612528</td><td>21.13867983</td><td>17.47260388</td><td>18.05267581</td><td>25.56915314</td><td>18.42654558</td><td>19.31001535</td><td>19.27676913</td><td>19.15895735</td><td>19.1922186</td><td>25.65713888</td><td>23.86867507</td><td>26.96654934</td><td>19.087521</td><td>18.79912326</td><td>19.29919809</td><td>19.83409726</td><td>18.75847784</td><td>17.78341295</td><td>27.15599139</td><td>19.03184634</td></tr><tr><th>3</th><td>-99.13981818</td><td>-99.02751399</td><td>-101.2246579</td><td>-100.1203004</td><td>-99.12241663</td><td>-99.90119526</td><td>-99.18284749</td><td>-99.01135515</td><td>-99.14083247</td><td>-96.64458885</td><td>-99.31002087</td><td>-99.04645417</td><td>-113.2620414</td><td>-99.24150119</td><td>-88.84542131</td><td>-97.62558085</td><td>-99.16582926</td><td>-99.6117513</td><td>-99.71150263</td><td>-101.4365262</td><td>-99.35839573</td><td>-99.17395135</td><td>-99.98826961</td><td>-109.4087386</td><td>-93.98593499</td><td>-101.6946138</td><td>-100.0829328</td><td>-100.3467352</td><td>-91.56984729</td><td>-99.64083191</td><td>-99.27351293</td><td>-97.87178831</td><td>-93.19614206</td><td>-104.423718</td><td>-99.19822416</td><td>-100.4148914</td><td>-98.98902562</td><td>-97.08449198</td><td>-99.98284588</td><td>-100.0624599</td><td>-99.2672167</td><td>-99.73607926</td><td>-100.6048926</td><td>-97.88266194</td><td>-99.13798401</td><td>-94.76911244</td><td>-99.19078411</td><td>-98.23211643</td><td>-99.05380151</td><td>-102.5416242</td><td>-98.96738482</td><td>-98.74278839</td><td>-103.3781656</td><td>-101.4384427</td><td>-98.28812469</td><td>-99.90420357</td><td>-98.35439673</td><td>-98.96494301</td><td>-99.89991361</td><td>-105.4342584</td><td>-101.4994208</td><td>-99.72564071</td><td>-115.0153979</td><td>-100.2717809</td><td>-97.79384902</td><td>-97.59975043</td><td>-99.09559604</td><td>-104.0880174</td><td>-101.0045412</td><td>-99.72618659</td><td>-99.04202562</td><td>-102.684894</td><td>-96.71965003</td><td>-99.20574612</td><td>-99.13510665</td><td>-99.08733263</td><td>-92.074237</td><td>-105.6807834</td><td>-99.96595716</td><td>-99.95531067</td><td>-104.0100738</td><td>-94.53325768</td><td>-101.7584247</td><td>-99.40208745</td><td>-95.58786844</td><td>-99.32954419</td><td>-99.34121261</td><td>-99.09438314</td><td>-98.9516928</td><td>-98.70433215</td><td>-105.9809854</td><td>-100.3211237</td><td>-100.5108179</td><td>-99.98064381</td><td>-99.20995518</td><td>-97.06741961</td><td>-99.79510197</td><td>-92.92149684</td><td>-100.1535911</td><td>-99.40816775</td></tr><tr><th>4</th><td>México</td><td>México</td><td>México</td><td>México</td><td>México</td><td>México</td><td>México</td><td>México</td><td>México</td><td>México</td><td>México</td><td>México</td><td>México</td><td>México</td><td>México</td><td>México</td><td>México</td><td>México</td><td>México</td><td>México</td><td>México</td><td>México</td><td>México</td><td>México</td><td>México</td><td>México</td><td>México</td><td>México</td><td>México</td><td>México</td><td>México</td><td>México</td><td>México</td><td>México</td><td>México</td><td>México</td><td>México</td><td>México</td><td>México</td><td>México</td><td>México</td><td>México</td><td>México</td><td>México</td><td>México</td><td>México</td><td>México</td><td>México</td><td>México</td><td>México</td><td>México</td><td>México</td><td>México</td><td>México</td><td>México</td><td>México</td><td>México</td><td>México</td><td>México</td><td>México</td><td>México</td><td>México</td><td>México</td><td>México</td><td>México</td><td>México</td><td>México</td><td>México</td><td>México</td><td>México</td><td>México</td><td>México</td><td>México</td><td>México</td><td>México</td><td>México</td><td>México</td><td>México</td><td>México</td><td>México</td><td>México</td><td>México</td><td>México</td><td>México</td><td>México</td><td>México</td><td>México</td><td>México</td><td>México</td><td>México</td><td>México</td><td>México</td><td>México</td><td>México</td><td>México</td><td>México</td><td>México</td><td>México</td><td>México</td><td>México</td></tr><tr><th>5</th><td>CDMX</td><td>CDMX</td><td>Michoacán de Ocampo</td><td>Querétaro</td><td>CDMX</td><td>México</td><td>CDMX</td><td>NA</td><td>CDMX</td><td>Oaxaca</td><td>México</td><td>CDMX</td><td>Baja California Sur</td><td>México</td><td>Yucatán</td><td>Tlaxcala</td><td>México</td><td>Querétaro</td><td>México</td><td>Guanajuato</td><td>Querétaro</td><td>CDMX</td><td>México</td><td>Sonora</td><td>Veracruz de Ignacio de la Llave</td><td>Guanajuato</td><td>México</td><td>Michoacán de Ocampo</td><td>Chiapas</td><td>México</td><td>CDMX</td><td>Puebla</td><td>Chiapas</td><td>Nayarit</td><td>CDMX</td><td>Guanajuato</td><td>CDMX</td><td>Veracruz de Ignacio de la Llave</td><td>México</td><td>México</td><td>México</td><td>México</td><td>Guanajuato</td><td>Puebla</td><td>CDMX</td><td>Veracruz de Ignacio de la Llave</td><td>México</td><td>Puebla</td><td>CDMX</td><td>Aguascalientes</td><td>CDMX</td><td>México</td><td>Zacatecas</td><td>Coahuila de Zaragoza</td><td>Tlaxcala</td><td>Nuevo León</td><td>Tlaxcala</td><td>México</td><td>Nuevo León</td><td>Jalisco</td><td>Coahuila de Zaragoza</td><td>México</td><td>Baja California</td><td>Nuevo León</td><td>Oaxaca</td><td>Puebla</td><td>CDMX</td><td>Nayarit</td><td>Michoacán de Ocampo</td><td>México</td><td>CDMX</td><td>Jalisco</td><td>Veracruz de Ignacio de la Llave</td><td>CDMX</td><td>CDMX</td><td>Morelos</td><td>Campeche</td><td>Chihuahua</td><td>Querétaro</td><td>México</td><td>Jalisco</td><td>Veracruz de Ignacio de la Llave</td><td>Guerrero</td><td>Nuevo León</td><td>Veracruz de Ignacio de la Llave</td><td>CDMX</td><td>México</td><td>CDMX</td><td>CDMX</td><td>Nuevo León</td><td>Durango</td><td>Nuevo León</td><td>México</td><td>México</td><td>CDMX</td><td>Veracruz de Ignacio de la Llave</td><td>México</td><td>Tabasco</td><td>Nuevo León</td><td>México</td></tr><tr><th>6</th><td>14500</td><td>NA</td><td>NA</td><td>NA</td><td>07050</td><td>NA</td><td>02080</td><td>NA</td><td>14900</td><td>NA</td><td>NA</td><td>NA</td><td>NA</td><td>54760</td><td>NA</td><td>NA</td><td>54880</td><td>NA</td><td>51900</td><td>NA</td><td>NA</td><td>14900</td><td>NA</td><td>NA</td><td>NA</td><td>NA</td><td>NA</td><td>61500</td><td>NA</td><td>NA</td><td>05100</td><td>NA</td><td>NA</td><td>NA</td><td>14010</td><td>NA</td><td>12000</td><td>NA</td><td>NA</td><td>NA</td><td>52940</td><td>NA</td><td>NA</td><td>75200</td><td>14900</td><td>NA</td><td>54099</td><td>72430</td><td>NA</td><td>20373</td><td>12000</td><td>56900</td><td>NA</td><td>NA</td><td>NA</td><td>NA</td><td>NA</td><td>NA</td><td>NA</td><td>NA</td><td>NA</td><td>51367</td><td>NA</td><td>NA</td><td>NA</td><td>NA</td><td>08000</td><td>NA</td><td>58920</td><td>50780</td><td>09208</td><td>NA</td><td>NA</td><td>NA</td><td>06900</td><td>62523</td><td>NA</td><td>NA</td><td>NA</td><td>NA</td><td>NA</td><td>NA</td><td>NA</td><td>NA</td><td>NA</td><td>05500</td><td>NA</td><td>NA</td><td>12000</td><td>NA</td><td>NA</td><td>NA</td><td>NA</td><td>NA</td><td>14240</td><td>NA</td><td>NA</td><td>NA</td><td>NA</td><td>NA</td></tr><tr><th>7</th><td>Tlalpan</td><td>Milpa Alta</td><td>Morelia</td><td>Amealco de Bonfil</td><td>Gustavo A. Madero</td><td>Polotitlán</td><td>Azcapotzalco</td><td>Cuauhtémoc</td><td>Tlalpan</td><td>Miahuatlán de Porfirio Díaz</td><td>Xalatlaco</td><td>Milpa Alta</td><td>Mulegé</td><td>Cuautitlán Izcalli</td><td>Yaxcabá</td><td>El Carmen Tequexquitla</td><td>Cuautitlán</td><td>Pinal de Amoles</td><td>Ixtapan de la Sal</td><td>Guanajuato</td><td>Jalpan de Serra</td><td>Tlalpan</td><td>Temascaltepec</td><td>Rosario</td><td>Las Choapas</td><td>Manuel Doblado</td><td>Tlatlaya</td><td>Zitácuaro</td><td>Ocosingo</td><td>Tenango del Valle</td><td>Cuajimalpa de Morelos</td><td>Totoltepec de Guerrero</td><td>Villa Corzo</td><td>Del Nayar</td><td>Tlalpan</td><td>San Luis de la Paz</td><td>Milpa Alta</td><td>Xico</td><td>San Felipe del Progreso</td><td>Temascalcingo</td><td>Atizapán de Zaragoza</td><td>Coatepec Harinas</td><td>San Luis de la Paz</td><td>Tepeaca</td><td>Tlalpan</td><td>Texistepec</td><td>Tlalnepantla de Baz</td><td>Puebla</td><td>Milpa Alta</td><td>Aguascalientes</td><td>Tláhuac</td><td>Amecameca</td><td>Valparaíso</td><td>Ramos Arizpe</td><td>Tlaxco</td><td>Doctor Arroyo</td><td>Hueyotlipan</td><td>Tecámac</td><td>Doctor González</td><td>Cabo Corrientes</td><td>Zaragoza</td><td>Zinacantepec</td><td>Ensenada</td><td>Galeana</td><td>Cosoltepec</td><td>Palmar de Bravo</td><td>Iztacalco</td><td>La Yesca</td><td>Álvaro Obregón</td><td>Ixtlahuaca</td><td>Iztapalapa</td><td>Cañadas de Obregón</td><td>Cuitláhuac</td><td>Tlalpan</td><td>Cuauhtémoc</td><td>Tepoztlán</td><td>Palizada</td><td>Aldama</td><td>Peñamiller</td><td>Sultepec</td><td>Tequila</td><td>Hidalgotitlán</td><td>La Unión de Isidoro Montes de Oca</td><td>General Terán</td><td>Tlacotalpan</td><td>Cuajimalpa de Morelos</td><td>Ocoyoacac</td><td>Milpa Alta</td><td>Milpa Alta</td><td>China</td><td>San Dimas</td><td>Lampazos de Naranjo</td><td>Luvianos</td><td>Sultepec</td><td>Tlalpan</td><td>Altotonga</td><td>Almoloya de Alquisiras</td><td>Teapa</td><td>Lampazos de Naranjo</td><td>Ocuilan</td></tr></tbody></table>"
      ],
      "text/plain": [
       "7×100 DataFrames.DataFrame\n",
       "│ Row │ 1         │ 2            │ 3                     │ 4                   │\n",
       "├─────┼───────────┼──────────────┼───────────────────────┼─────────────────────┤\n",
       "│ 1   │ 1         │ 2            │ 3                     │ 4                   │\n",
       "│ 2   │ 19.1906   │ 19.1547      │ 19.3494               │ 20.1571             │\n",
       "│ 3   │ -99.1398  │ -99.0275     │ -101.225              │ -100.12             │\n",
       "│ 4   │ \"México\"  │ \"México\"     │ \"México\"              │ \"México\"            │\n",
       "│ 5   │ \"CDMX\"    │ \"CDMX\"       │ \"Michoacán de Ocampo\" │ \"Querétaro\"         │\n",
       "│ 6   │ \"14500\"   │ \"NA\"         │ \"NA\"                  │ \"NA\"                │\n",
       "│ 7   │ \"Tlalpan\" │ \"Milpa Alta\" │ \"Morelia\"             │ \"Amealco de Bonfil\" │\n",
       "\n",
       "│ Row │ 5                   │ 6            │ 7              │ 8            │\n",
       "├─────┼─────────────────────┼──────────────┼────────────────┼──────────────┤\n",
       "│ 1   │ 5                   │ 6            │ 7              │ 8            │\n",
       "│ 2   │ 19.4832             │ 20.2681      │ 19.4797        │ 19.0884      │\n",
       "│ 3   │ -99.1224            │ -99.9012     │ -99.1828       │ -99.0114     │\n",
       "│ 4   │ \"México\"            │ \"México\"     │ \"México\"       │ \"México\"     │\n",
       "│ 5   │ \"CDMX\"              │ \"México\"     │ \"CDMX\"         │ \"NA\"         │\n",
       "│ 6   │ \"07050\"             │ \"NA\"         │ \"02080\"        │ \"NA\"         │\n",
       "│ 7   │ \"Gustavo A. Madero\" │ \"Polotitlán\" │ \"Azcapotzalco\" │ \"Cuauhtémoc\" │\n",
       "\n",
       "│ Row │ 9         │ 10                            │ 11          │ 12           │\n",
       "├─────┼───────────┼───────────────────────────────┼─────────────┼──────────────┤\n",
       "│ 1   │ 9         │ 10                            │ 11          │ 12           │\n",
       "│ 2   │ 19.1166   │ 16.4153                       │ 19.2037     │ 19.1289      │\n",
       "│ 3   │ -99.1408  │ -96.6446                      │ -99.31      │ -99.0465     │\n",
       "│ 4   │ \"México\"  │ \"México\"                      │ \"México\"    │ \"México\"     │\n",
       "│ 5   │ \"CDMX\"    │ \"Oaxaca\"                      │ \"México\"    │ \"CDMX\"       │\n",
       "│ 6   │ \"14900\"   │ \"NA\"                          │ \"NA\"        │ \"NA\"         │\n",
       "│ 7   │ \"Tlalpan\" │ \"Miahuatlán de Porfirio Díaz\" │ \"Xalatlaco\" │ \"Milpa Alta\" │\n",
       "\n",
       "│ Row │ 13                    │ 14                   │ 15        │\n",
       "├─────┼───────────────────────┼──────────────────────┼───────────┤\n",
       "│ 1   │ 13                    │ 14                   │ 15        │\n",
       "│ 2   │ 26.8429               │ 19.6368              │ 20.4344   │\n",
       "│ 3   │ -113.262              │ -99.2415             │ -88.8454  │\n",
       "│ 4   │ \"México\"              │ \"México\"             │ \"México\"  │\n",
       "│ 5   │ \"Baja California Sur\" │ \"México\"             │ \"Yucatán\" │\n",
       "│ 6   │ \"NA\"                  │ \"54760\"              │ \"NA\"      │\n",
       "│ 7   │ \"Mulegé\"              │ \"Cuautitlán Izcalli\" │ \"Yaxcabá\" │\n",
       "\n",
       "│ Row │ 16                       │ 17           │ 18                │\n",
       "├─────┼──────────────────────────┼──────────────┼───────────────────┤\n",
       "│ 1   │ 16                       │ 17           │ 18                │\n",
       "│ 2   │ 19.3343                  │ 19.7286      │ 21.2371           │\n",
       "│ 3   │ -97.6256                 │ -99.1658     │ -99.6118          │\n",
       "│ 4   │ \"México\"                 │ \"México\"     │ \"México\"          │\n",
       "│ 5   │ \"Tlaxcala\"               │ \"México\"     │ \"Querétaro\"       │\n",
       "│ 6   │ \"NA\"                     │ \"54880\"      │ \"NA\"              │\n",
       "│ 7   │ \"El Carmen Tequexquitla\" │ \"Cuautitlán\" │ \"Pinal de Amoles\" │\n",
       "\n",
       "│ Row │ 19                  │ 20           │ 21                │ 22        │\n",
       "├─────┼─────────────────────┼──────────────┼───────────────────┼───────────┤\n",
       "│ 1   │ 19                  │ 20           │ 21                │ 22        │\n",
       "│ 2   │ 18.8719             │ 21.1543      │ 21.3529           │ 19.1322   │\n",
       "│ 3   │ -99.7115            │ -101.437     │ -99.3584          │ -99.174   │\n",
       "│ 4   │ \"México\"            │ \"México\"     │ \"México\"          │ \"México\"  │\n",
       "│ 5   │ \"México\"            │ \"Guanajuato\" │ \"Querétaro\"       │ \"CDMX\"    │\n",
       "│ 6   │ \"51900\"             │ \"NA\"         │ \"NA\"              │ \"14900\"   │\n",
       "│ 7   │ \"Ixtapan de la Sal\" │ \"Guanajuato\" │ \"Jalpan de Serra\" │ \"Tlalpan\" │\n",
       "\n",
       "│ Row │ 23              │ 24        │ 25                                │\n",
       "├─────┼─────────────────┼───────────┼───────────────────────────────────┤\n",
       "│ 1   │ 23              │ 24        │ 25                                │\n",
       "│ 2   │ 19.0144         │ 28.2924   │ 17.2557                           │\n",
       "│ 3   │ -99.9883        │ -109.409  │ -93.9859                          │\n",
       "│ 4   │ \"México\"        │ \"México\"  │ \"México\"                          │\n",
       "│ 5   │ \"México\"        │ \"Sonora\"  │ \"Veracruz de Ignacio de la Llave\" │\n",
       "│ 6   │ \"NA\"            │ \"NA\"      │ \"NA\"                              │\n",
       "│ 7   │ \"Temascaltepec\" │ \"Rosario\" │ \"Las Choapas\"                     │\n",
       "\n",
       "│ Row │ 26               │ 27         │ 28                    │ 29         │\n",
       "├─────┼──────────────────┼────────────┼───────────────────────┼────────────┤\n",
       "│ 1   │ 26               │ 27         │ 28                    │ 29         │\n",
       "│ 2   │ 20.668           │ 18.6323    │ 19.3626               │ 17.0721    │\n",
       "│ 3   │ -101.695         │ -100.083   │ -100.347              │ -91.5698   │\n",
       "│ 4   │ \"México\"         │ \"México\"   │ \"México\"              │ \"México\"   │\n",
       "│ 5   │ \"Guanajuato\"     │ \"México\"   │ \"Michoacán de Ocampo\" │ \"Chiapas\"  │\n",
       "│ 6   │ \"NA\"             │ \"NA\"       │ \"61500\"               │ \"NA\"       │\n",
       "│ 7   │ \"Manuel Doblado\" │ \"Tlatlaya\" │ \"Zitácuaro\"           │ \"Ocosingo\" │\n",
       "\n",
       "│ Row │ 30                  │ 31                      │\n",
       "├─────┼─────────────────────┼─────────────────────────┤\n",
       "│ 1   │ 30                  │ 31                      │\n",
       "│ 2   │ 19.1174             │ 19.3831                 │\n",
       "│ 3   │ -99.6408            │ -99.2735                │\n",
       "│ 4   │ \"México\"            │ \"México\"                │\n",
       "│ 5   │ \"México\"            │ \"CDMX\"                  │\n",
       "│ 6   │ \"NA\"                │ \"05100\"                 │\n",
       "│ 7   │ \"Tenango del Valle\" │ \"Cuajimalpa de Morelos\" │\n",
       "\n",
       "│ Row │ 32                       │ 33            │ 34          │ 35        │\n",
       "├─────┼──────────────────────────┼───────────────┼─────────────┼───────────┤\n",
       "│ 1   │ 32                       │ 33            │ 34          │ 35        │\n",
       "│ 2   │ 18.4319                  │ 16.115        │ 22.2785     │ 19.2846   │\n",
       "│ 3   │ -97.8718                 │ -93.1961      │ -104.424    │ -99.1982  │\n",
       "│ 4   │ \"México\"                 │ \"México\"      │ \"México\"    │ \"México\"  │\n",
       "│ 5   │ \"Puebla\"                 │ \"Chiapas\"     │ \"Nayarit\"   │ \"CDMX\"    │\n",
       "│ 6   │ \"NA\"                     │ \"NA\"          │ \"NA\"        │ \"14010\"   │\n",
       "│ 7   │ \"Totoltepec de Guerrero\" │ \"Villa Corzo\" │ \"Del Nayar\" │ \"Tlalpan\" │\n",
       "\n",
       "│ Row │ 36                   │ 37           │\n",
       "├─────┼──────────────────────┼──────────────┤\n",
       "│ 1   │ 36                   │ 37           │\n",
       "│ 2   │ 21.0121              │ 19.177       │\n",
       "│ 3   │ -100.415             │ -98.989      │\n",
       "│ 4   │ \"México\"             │ \"México\"     │\n",
       "│ 5   │ \"Guanajuato\"         │ \"CDMX\"       │\n",
       "│ 6   │ \"NA\"                 │ \"12000\"      │\n",
       "│ 7   │ \"San Luis de la Paz\" │ \"Milpa Alta\" │\n",
       "\n",
       "│ Row │ 38                                │ 39                        │\n",
       "├─────┼───────────────────────────────────┼───────────────────────────┤\n",
       "│ 1   │ 38                                │ 39                        │\n",
       "│ 2   │ 19.4768                           │ 19.7026                   │\n",
       "│ 3   │ -97.0845                          │ -99.9828                  │\n",
       "│ 4   │ \"México\"                          │ \"México\"                  │\n",
       "│ 5   │ \"Veracruz de Ignacio de la Llave\" │ \"México\"                  │\n",
       "│ 6   │ \"NA\"                              │ \"NA\"                      │\n",
       "│ 7   │ \"Xico\"                            │ \"San Felipe del Progreso\" │\n",
       "\n",
       "│ Row │ 40              │ 41                     │ 42                 │\n",
       "├─────┼─────────────────┼────────────────────────┼────────────────────┤\n",
       "│ 1   │ 40              │ 41                     │ 42                 │\n",
       "│ 2   │ 20.0321         │ 19.5939                │ 18.8897            │\n",
       "│ 3   │ -100.062        │ -99.2672               │ -99.7361           │\n",
       "│ 4   │ \"México\"        │ \"México\"               │ \"México\"           │\n",
       "│ 5   │ \"México\"        │ \"México\"               │ \"México\"           │\n",
       "│ 6   │ \"NA\"            │ \"52940\"                │ \"NA\"               │\n",
       "│ 7   │ \"Temascalcingo\" │ \"Atizapán de Zaragoza\" │ \"Coatepec Harinas\" │\n",
       "\n",
       "│ Row │ 43                   │ 44        │ 45        │\n",
       "├─────┼──────────────────────┼───────────┼───────────┤\n",
       "│ 1   │ 43                   │ 44        │ 45        │\n",
       "│ 2   │ 21.2847              │ 18.9787   │ 19.1807   │\n",
       "│ 3   │ -100.605             │ -97.8827  │ -99.138   │\n",
       "│ 4   │ \"México\"             │ \"México\"  │ \"México\"  │\n",
       "│ 5   │ \"Guanajuato\"         │ \"Puebla\"  │ \"CDMX\"    │\n",
       "│ 6   │ \"NA\"                 │ \"75200\"   │ \"14900\"   │\n",
       "│ 7   │ \"San Luis de la Paz\" │ \"Tepeaca\" │ \"Tlalpan\" │\n",
       "\n",
       "│ Row │ 46                                │ 47                    │ 48       │\n",
       "├─────┼───────────────────────────────────┼───────────────────────┼──────────┤\n",
       "│ 1   │ 46                                │ 47                    │ 48       │\n",
       "│ 2   │ 17.7813                           │ 19.5129               │ 19.0176  │\n",
       "│ 3   │ -94.7691                          │ -99.1908              │ -98.2321 │\n",
       "│ 4   │ \"México\"                          │ \"México\"              │ \"México\" │\n",
       "│ 5   │ \"Veracruz de Ignacio de la Llave\" │ \"México\"              │ \"Puebla\" │\n",
       "│ 6   │ \"NA\"                              │ \"54099\"               │ \"72430\"  │\n",
       "│ 7   │ \"Texistepec\"                      │ \"Tlalnepantla de Baz\" │ \"Puebla\" │\n",
       "\n",
       "│ Row │ 49           │ 50               │ 51        │ 52          │\n",
       "├─────┼──────────────┼──────────────────┼───────────┼─────────────┤\n",
       "│ 1   │ 49           │ 50               │ 51        │ 52          │\n",
       "│ 2   │ 19.1702      │ 21.7321          │ 19.2223   │ 19.1125     │\n",
       "│ 3   │ -99.0538     │ -102.542         │ -98.9674  │ -98.7428    │\n",
       "│ 4   │ \"México\"     │ \"México\"         │ \"México\"  │ \"México\"    │\n",
       "│ 5   │ \"CDMX\"       │ \"Aguascalientes\" │ \"CDMX\"    │ \"México\"    │\n",
       "│ 6   │ \"NA\"         │ \"20373\"          │ \"12000\"   │ \"56900\"     │\n",
       "│ 7   │ \"Milpa Alta\" │ \"Aguascalientes\" │ \"Tláhuac\" │ \"Amecameca\" │\n",
       "\n",
       "│ Row │ 53           │ 54                     │ 55         │ 56              │\n",
       "├─────┼──────────────┼────────────────────────┼────────────┼─────────────────┤\n",
       "│ 1   │ 53           │ 54                     │ 55         │ 56              │\n",
       "│ 2   │ 22.5979      │ 26.6584                │ 19.7095    │ 23.7199         │\n",
       "│ 3   │ -103.378     │ -101.438               │ -98.2881   │ -99.9042        │\n",
       "│ 4   │ \"México\"     │ \"México\"               │ \"México\"   │ \"México\"        │\n",
       "│ 5   │ \"Zacatecas\"  │ \"Coahuila de Zaragoza\" │ \"Tlaxcala\" │ \"Nuevo León\"    │\n",
       "│ 6   │ \"NA\"         │ \"NA\"                   │ \"NA\"       │ \"NA\"            │\n",
       "│ 7   │ \"Valparaíso\" │ \"Ramos Arizpe\"         │ \"Tlaxco\"   │ \"Doctor Arroyo\" │\n",
       "\n",
       "│ Row │ 57            │ 58        │ 59                │ 60                │\n",
       "├─────┼───────────────┼───────────┼───────────────────┼───────────────────┤\n",
       "│ 1   │ 57            │ 58        │ 59                │ 60                │\n",
       "│ 2   │ 19.4684       │ 19.8188   │ 25.9651           │ 20.4909           │\n",
       "│ 3   │ -98.3544      │ -98.9649  │ -99.8999          │ -105.434          │\n",
       "│ 4   │ \"México\"      │ \"México\"  │ \"México\"          │ \"México\"          │\n",
       "│ 5   │ \"Tlaxcala\"    │ \"México\"  │ \"Nuevo León\"      │ \"Jalisco\"         │\n",
       "│ 6   │ \"NA\"          │ \"NA\"      │ \"NA\"              │ \"NA\"              │\n",
       "│ 7   │ \"Hueyotlipan\" │ \"Tecámac\" │ \"Doctor González\" │ \"Cabo Corrientes\" │\n",
       "\n",
       "│ Row │ 61                     │ 62             │ 63                │\n",
       "├─────┼────────────────────────┼────────────────┼───────────────────┤\n",
       "│ 1   │ 61                     │ 62             │ 63                │\n",
       "│ 2   │ 29.1569                │ 19.2335        │ 30.3764           │\n",
       "│ 3   │ -101.499               │ -99.7256       │ -115.015          │\n",
       "│ 4   │ \"México\"               │ \"México\"       │ \"México\"          │\n",
       "│ 5   │ \"Coahuila de Zaragoza\" │ \"México\"       │ \"Baja California\" │\n",
       "│ 6   │ \"NA\"                   │ \"51367\"        │ \"NA\"              │\n",
       "│ 7   │ \"Zaragoza\"             │ \"Zinacantepec\" │ \"Ensenada\"        │\n",
       "\n",
       "│ Row │ 64           │ 65           │ 66                │ 67          │\n",
       "├─────┼──────────────┼──────────────┼───────────────────┼─────────────┤\n",
       "│ 1   │ 64           │ 65           │ 66                │ 67          │\n",
       "│ 2   │ 24.8138      │ 18.1309      │ 18.8482           │ 19.3852     │\n",
       "│ 3   │ -100.272     │ -97.7938     │ -97.5998          │ -99.0956    │\n",
       "│ 4   │ \"México\"     │ \"México\"     │ \"México\"          │ \"México\"    │\n",
       "│ 5   │ \"Nuevo León\" │ \"Oaxaca\"     │ \"Puebla\"          │ \"CDMX\"      │\n",
       "│ 6   │ \"NA\"         │ \"NA\"         │ \"NA\"              │ \"08000\"     │\n",
       "│ 7   │ \"Galeana\"    │ \"Cosoltepec\" │ \"Palmar de Bravo\" │ \"Iztacalco\" │\n",
       "\n",
       "│ Row │ 68         │ 69                    │ 70           │ 71           │\n",
       "├─────┼────────────┼───────────────────────┼──────────────┼──────────────┤\n",
       "│ 1   │ 68         │ 69                    │ 70           │ 71           │\n",
       "│ 2   │ 21.3039    │ 19.8975               │ 19.4844      │ 19.3839      │\n",
       "│ 3   │ -104.088   │ -101.005              │ -99.7262     │ -99.042      │\n",
       "│ 4   │ \"México\"   │ \"México\"              │ \"México\"     │ \"México\"     │\n",
       "│ 5   │ \"Nayarit\"  │ \"Michoacán de Ocampo\" │ \"México\"     │ \"CDMX\"       │\n",
       "│ 6   │ \"NA\"       │ \"58920\"               │ \"50780\"      │ \"09208\"      │\n",
       "│ 7   │ \"La Yesca\" │ \"Álvaro Obregón\"      │ \"Ixtlahuaca\" │ \"Iztapalapa\" │\n",
       "\n",
       "│ Row │ 72                   │ 73                                │ 74        │\n",
       "├─────┼──────────────────────┼───────────────────────────────────┼───────────┤\n",
       "│ 1   │ 72                   │ 73                                │ 74        │\n",
       "│ 2   │ 21.2117              │ 18.853                            │ 19.1999   │\n",
       "│ 3   │ -102.685             │ -96.7197                          │ -99.2057  │\n",
       "│ 4   │ \"México\"             │ \"México\"                          │ \"México\"  │\n",
       "│ 5   │ \"Jalisco\"            │ \"Veracruz de Ignacio de la Llave\" │ \"CDMX\"    │\n",
       "│ 6   │ \"NA\"                 │ \"NA\"                              │ \"NA\"      │\n",
       "│ 7   │ \"Cañadas de Obregón\" │ \"Cuitláhuac\"                      │ \"Tlalpan\" │\n",
       "\n",
       "│ Row │ 75           │ 76          │ 77         │ 78          │ 79           │\n",
       "├─────┼──────────────┼─────────────┼────────────┼─────────────┼──────────────┤\n",
       "│ 1   │ 75           │ 76          │ 77         │ 78          │ 79           │\n",
       "│ 2   │ 19.4508      │ 19.0727     │ 18.0712    │ 29.1259     │ 21.2768      │\n",
       "│ 3   │ -99.1351     │ -99.0873    │ -92.0742   │ -105.681    │ -99.966      │\n",
       "│ 4   │ \"México\"     │ \"México\"    │ \"México\"   │ \"México\"    │ \"México\"     │\n",
       "│ 5   │ \"CDMX\"       │ \"Morelos\"   │ \"Campeche\" │ \"Chihuahua\" │ \"Querétaro\"  │\n",
       "│ 6   │ \"06900\"      │ \"62523\"     │ \"NA\"       │ \"NA\"        │ \"NA\"         │\n",
       "│ 7   │ \"Cuauhtémoc\" │ \"Tepoztlán\" │ \"Palizada\" │ \"Aldama\"    │ \"Peñamiller\" │\n",
       "\n",
       "│ Row │ 80         │ 81        │ 82                                │\n",
       "├─────┼────────────┼───────────┼───────────────────────────────────┤\n",
       "│ 1   │ 80         │ 81        │ 82                                │\n",
       "│ 2   │ 18.6613    │ 21.1387   │ 17.4726                           │\n",
       "│ 3   │ -99.9553   │ -104.01   │ -94.5333                          │\n",
       "│ 4   │ \"México\"   │ \"México\"  │ \"México\"                          │\n",
       "│ 5   │ \"México\"   │ \"Jalisco\" │ \"Veracruz de Ignacio de la Llave\" │\n",
       "│ 6   │ \"NA\"       │ \"NA\"      │ \"NA\"                              │\n",
       "│ 7   │ \"Sultepec\" │ \"Tequila\" │ \"Hidalgotitlán\"                   │\n",
       "\n",
       "│ Row │ 83                                  │ 84              │\n",
       "├─────┼─────────────────────────────────────┼─────────────────┤\n",
       "│ 1   │ 83                                  │ 84              │\n",
       "│ 2   │ 18.0527                             │ 25.5692         │\n",
       "│ 3   │ -101.758                            │ -99.4021        │\n",
       "│ 4   │ \"México\"                            │ \"México\"        │\n",
       "│ 5   │ \"Guerrero\"                          │ \"Nuevo León\"    │\n",
       "│ 6   │ \"NA\"                                │ \"NA\"            │\n",
       "│ 7   │ \"La Unión de Isidoro Montes de Oca\" │ \"General Terán\" │\n",
       "\n",
       "│ Row │ 85                                │ 86                      │\n",
       "├─────┼───────────────────────────────────┼─────────────────────────┤\n",
       "│ 1   │ 85                                │ 86                      │\n",
       "│ 2   │ 18.4265                           │ 19.31                   │\n",
       "│ 3   │ -95.5879                          │ -99.3295                │\n",
       "│ 4   │ \"México\"                          │ \"México\"                │\n",
       "│ 5   │ \"Veracruz de Ignacio de la Llave\" │ \"CDMX\"                  │\n",
       "│ 6   │ \"NA\"                              │ \"05500\"                 │\n",
       "│ 7   │ \"Tlacotalpan\"                     │ \"Cuajimalpa de Morelos\" │\n",
       "\n",
       "│ Row │ 87          │ 88           │ 89           │ 90           │ 91          │\n",
       "├─────┼─────────────┼──────────────┼──────────────┼──────────────┼─────────────┤\n",
       "│ 1   │ 87          │ 88           │ 89           │ 90           │ 91          │\n",
       "│ 2   │ 19.2768     │ 19.159       │ 19.1922      │ 25.6571      │ 23.8687     │\n",
       "│ 3   │ -99.3412    │ -99.0944     │ -98.9517     │ -98.7043     │ -105.981    │\n",
       "│ 4   │ \"México\"    │ \"México\"     │ \"México\"     │ \"México\"     │ \"México\"    │\n",
       "│ 5   │ \"México\"    │ \"CDMX\"       │ \"CDMX\"       │ \"Nuevo León\" │ \"Durango\"   │\n",
       "│ 6   │ \"NA\"        │ \"NA\"         │ \"12000\"      │ \"NA\"         │ \"NA\"        │\n",
       "│ 7   │ \"Ocoyoacac\" │ \"Milpa Alta\" │ \"Milpa Alta\" │ \"China\"      │ \"San Dimas\" │\n",
       "\n",
       "│ Row │ 92                    │ 93         │ 94         │ 95        │\n",
       "├─────┼───────────────────────┼────────────┼────────────┼───────────┤\n",
       "│ 1   │ 92                    │ 93         │ 94         │ 95        │\n",
       "│ 2   │ 26.9665               │ 19.0875    │ 18.7991    │ 19.2992   │\n",
       "│ 3   │ -100.321              │ -100.511   │ -99.9806   │ -99.21    │\n",
       "│ 4   │ \"México\"              │ \"México\"   │ \"México\"   │ \"México\"  │\n",
       "│ 5   │ \"Nuevo León\"          │ \"México\"   │ \"México\"   │ \"CDMX\"    │\n",
       "│ 6   │ \"NA\"                  │ \"NA\"       │ \"NA\"       │ \"14240\"   │\n",
       "│ 7   │ \"Lampazos de Naranjo\" │ \"Luvianos\" │ \"Sultepec\" │ \"Tlalpan\" │\n",
       "\n",
       "│ Row │ 96                                │ 97                       │\n",
       "├─────┼───────────────────────────────────┼──────────────────────────┤\n",
       "│ 1   │ 96                                │ 97                       │\n",
       "│ 2   │ 19.8341                           │ 18.7585                  │\n",
       "│ 3   │ -97.0674                          │ -99.7951                 │\n",
       "│ 4   │ \"México\"                          │ \"México\"                 │\n",
       "│ 5   │ \"Veracruz de Ignacio de la Llave\" │ \"México\"                 │\n",
       "│ 6   │ \"NA\"                              │ \"NA\"                     │\n",
       "│ 7   │ \"Altotonga\"                       │ \"Almoloya de Alquisiras\" │\n",
       "\n",
       "│ Row │ 98        │ 99                    │ 100       │\n",
       "├─────┼───────────┼───────────────────────┼───────────┤\n",
       "│ 1   │ 98        │ 99                    │ 100       │\n",
       "│ 2   │ 17.7834   │ 27.156                │ 19.0318   │\n",
       "│ 3   │ -92.9215  │ -100.154              │ -99.4082  │\n",
       "│ 4   │ \"México\"  │ \"México\"              │ \"México\"  │\n",
       "│ 5   │ \"Tabasco\" │ \"Nuevo León\"          │ \"México\"  │\n",
       "│ 6   │ \"NA\"      │ \"NA\"                  │ \"NA\"      │\n",
       "│ 7   │ \"Teapa\"   │ \"Lampazos de Naranjo\" │ \"Ocuilan\" │"
      ]
     },
     "execution_count": 17,
     "metadata": {},
     "output_type": "execute_result"
    }
   ],
   "source": [
    "df"
   ]
  },
  {
   "cell_type": "code",
   "execution_count": 18,
   "metadata": {
    "collapsed": false
   },
   "outputs": [
    {
     "data": {
      "text/plain": [
       "7×100 DataArrays.DataArray{Any,2}:\n",
       "   1             2                 3                       …  100         \n",
       "  19.1906       19.1547           19.3494                      19.0318    \n",
       " -99.1398      -99.0275         -101.225                      -99.4082    \n",
       "    \"México\"      \"México\"          \"México\"                     \"México\" \n",
       "    \"CDMX\"        \"CDMX\"            \"Michoacán de Ocampo\"        \"México\" \n",
       "    \"14500\"       \"NA\"              \"NA\"                   …     \"NA\"     \n",
       "    \"Tlalpan\"     \"Milpa Alta\"      \"Morelia\"                    \"Ocuilan\""
      ]
     },
     "execution_count": 18,
     "metadata": {},
     "output_type": "execute_result"
    }
   ],
   "source": [
    "df2 = convert(DataArray,df)"
   ]
  },
  {
   "cell_type": "code",
   "execution_count": 19,
   "metadata": {
    "collapsed": false
   },
   "outputs": [
    {
     "data": {
      "text/plain": [
       "100×7 DataArrays.DataArray{Any,2}:\n",
       "   1  19.1906   -99.1398  \"México\"  …  \"Tlalpan\"                    \n",
       "   2  19.1547   -99.0275  \"México\"     \"Milpa Alta\"                 \n",
       "   3  19.3494  -101.225   \"México\"     \"Morelia\"                    \n",
       "   4  20.1571  -100.12    \"México\"     \"Amealco de Bonfil\"          \n",
       "   5  19.4832   -99.1224  \"México\"     \"Gustavo A. Madero\"          \n",
       "   6  20.2681   -99.9012  \"México\"  …  \"Polotitlán\"                 \n",
       "   7  19.4797   -99.1828  \"México\"     \"Azcapotzalco\"               \n",
       "   8  19.0884   -99.0114  \"México\"     \"Cuauhtémoc\"                 \n",
       "   9  19.1166   -99.1408  \"México\"     \"Tlalpan\"                    \n",
       "  10  16.4153   -96.6446  \"México\"     \"Miahuatlán de Porfirio Díaz\"\n",
       "  11  19.2037   -99.31    \"México\"  …  \"Xalatlaco\"                  \n",
       "  12  19.1289   -99.0465  \"México\"     \"Milpa Alta\"                 \n",
       "  13  26.8429  -113.262   \"México\"     \"Mulegé\"                     \n",
       "   ⋮                                ⋱                               \n",
       "  89  19.1922   -98.9517  \"México\"     \"Milpa Alta\"                 \n",
       "  90  25.6571   -98.7043  \"México\"     \"China\"                      \n",
       "  91  23.8687  -105.981   \"México\"  …  \"San Dimas\"                  \n",
       "  92  26.9665  -100.321   \"México\"     \"Lampazos de Naranjo\"        \n",
       "  93  19.0875  -100.511   \"México\"     \"Luvianos\"                   \n",
       "  94  18.7991   -99.9806  \"México\"     \"Sultepec\"                   \n",
       "  95  19.2992   -99.21    \"México\"     \"Tlalpan\"                    \n",
       "  96  19.8341   -97.0674  \"México\"  …  \"Altotonga\"                  \n",
       "  97  18.7585   -99.7951  \"México\"     \"Almoloya de Alquisiras\"     \n",
       "  98  17.7834   -92.9215  \"México\"     \"Teapa\"                      \n",
       "  99  27.156   -100.154   \"México\"     \"Lampazos de Naranjo\"        \n",
       " 100  19.0318   -99.4082  \"México\"     \"Ocuilan\"                    "
      ]
     },
     "execution_count": 19,
     "metadata": {},
     "output_type": "execute_result"
    }
   ],
   "source": [
    "df3 = transpose(df2)"
   ]
  },
  {
   "cell_type": "code",
   "execution_count": null,
   "metadata": {
    "collapsed": true
   },
   "outputs": [],
   "source": []
  }
 ],
 "metadata": {
  "kernelspec": {
   "display_name": "Julia 0.5.0",
   "language": "julia",
   "name": "julia-0.5"
  },
  "language_info": {
   "file_extension": ".jl",
   "mimetype": "application/julia",
   "name": "julia",
   "version": "0.5.0"
  }
 },
 "nbformat": 4,
 "nbformat_minor": 1
}
